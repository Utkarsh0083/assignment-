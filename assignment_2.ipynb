{
  "nbformat": 4,
  "nbformat_minor": 0,
  "metadata": {
    "colab": {
      "provenance": [],
      "authorship_tag": "ABX9TyPVrBOK6/WH3C9I1DZ1+RV7",
      "include_colab_link": true
    },
    "kernelspec": {
      "name": "python3",
      "display_name": "Python 3"
    },
    "language_info": {
      "name": "python"
    }
  },
  "cells": [
    {
      "cell_type": "markdown",
      "metadata": {
        "id": "view-in-github",
        "colab_type": "text"
      },
      "source": [
        "<a href=\"https://colab.research.google.com/github/Aditi31kapil/Cognitive_Computing/blob/main/Assignment2Coginitive.ipynb\" target=\"_parent\"><img src=\"https://colab.research.google.com/assets/colab-badge.svg\" alt=\"Open In Colab\"/></a>"
      ]
    },
    {
      "cell_type": "markdown",
      "source": [
        "Ques 1"
      ],
      "metadata": {
        "id": "ah46LuLWcA7N"
      }
    },
    {
      "cell_type": "code",
      "execution_count": null,
      "metadata": {
        "id": "V84SRaphbsD3"
      },
      "outputs": [],
      "source": [
        "def oneprogram(l):\n",
        "  print(\"Adding 200\")\n",
        "  for i in range(len(l)):\n",
        "    print(l[i]+200, end=\",\")\n",
        "  print(\"\\n\")\n",
        "  print(\"Adding 300\")\n",
        "  for i in range(len(l)):\n",
        "    print(l[i]+300, end=\",\")\n",
        "  print(\"\\n\")\n",
        "\n",
        "def threeprogram(l):\n",
        "  print(\"Ascending order\")\n",
        "  l.sort()\n",
        "  print(l)\n",
        "  print(\"descending order\")\n",
        "  l.reverse()\n",
        "  print(l)\n",
        "\n",
        "def twoprogram(l):\n",
        "  a = l[:]\n",
        "  print(\"removing 10, 30\")\n",
        "  a.remove(10)\n",
        "  a.remove(30)\n",
        "  print(a)\n",
        "\n",
        "\n",
        "p = [10, 20, 30, 40, 50, 60, 70, 80]\n",
        "oneprogram(p)\n",
        "twoprogram(p)\n",
        "threeprogram(p)"
      ]
    },
    {
      "cell_type": "markdown",
      "source": [
        "Ques 2"
      ],
      "metadata": {
        "id": "2KKs7Ci7cvYN"
      }
    },
    {
      "cell_type": "code",
      "source": [
        "scores = (45, 89.5, 76, 45.4, 89, 92, 58, 45)\n",
        "def highest_score_index(scores):\n",
        "  a = max(scores)\n",
        "  print(a)\n",
        "  b = scores.index(a)\n",
        "  print(b)\n",
        "\n",
        "def lowest_score_count(scores):\n",
        "  a = min(scores)\n",
        "  print(a)\n",
        "  b = scores.count(a)\n",
        "  print(b)\n",
        "def rev_list(scores):\n",
        "  a = list(scores[::-1])\n",
        "  print(a)\n",
        "\n",
        "def check_num(scores):\n",
        "  a = 76 in scores\n",
        "  print(a)\n",
        "  b = scores.index(76)\n",
        "  print(b)\n",
        "\n",
        "highest_score_index(scores)\n",
        "lowest_score_count(scores)\n",
        "rev_list(scores)\n",
        "check_num(scores)"
      ],
      "metadata": {
        "colab": {
          "base_uri": "https://localhost:8080/"
        },
        "id": "eVW3eekncz09",
        "outputId": "83d4e1d8-aad6-4c2e-838f-9aba0df268c6"
      },
      "execution_count": 5,
      "outputs": [
        {
          "output_type": "stream",
          "name": "stdout",
          "text": [
            "92\n",
            "5\n",
            "45\n",
            "2\n",
            "[45, 58, 92, 89, 45.4, 76, 89.5, 45]\n",
            "True\n",
            "2\n"
          ]
        }
      ]
    },
    {
      "cell_type": "markdown",
      "source": [
        "Ques 3"
      ],
      "metadata": {
        "id": "mRuDgqp4ewe_"
      }
    },
    {
      "cell_type": "code",
      "source": [
        "import random, math\n",
        "def isprime(n):\n",
        "  for i in range(2,int(math.sqrt(n))):\n",
        "    if(n%i == 0):\n",
        "      return False\n",
        "  return True\n",
        "def fun2():\n",
        "  l = [random.randint(100, 900) for i in range(100)]\n",
        "  odd = []\n",
        "  even = []\n",
        "  prime = []\n",
        "  for i in range(len(l)):\n",
        "    if (i%2 !=0):\n",
        "      odd.append(l[i])\n",
        "    else:\n",
        "      even.append(l[i])\n",
        "    if(isprime(l[i])):\n",
        "      prime.append(l[i])\n",
        "  print(\"Odd numbers are\",odd)\n",
        "  print(\"Even numbers are\",even)\n",
        "  print(\"Prime numbers are\",prime)\n",
        "\n",
        "fun2()\n"
      ],
      "metadata": {
        "colab": {
          "base_uri": "https://localhost:8080/"
        },
        "id": "_zVK3MkieyDu",
        "outputId": "5095277c-6f34-49b7-d365-0c737c234970"
      },
      "execution_count": 6,
      "outputs": [
        {
          "output_type": "stream",
          "name": "stdout",
          "text": [
            "Odd numbers are [727, 609, 722, 497, 217, 184, 832, 255, 136, 882, 761, 525, 869, 523, 116, 271, 686, 471, 861, 280, 395, 809, 674, 421, 219, 423, 861, 189, 465, 133, 462, 273, 809, 864, 861, 757, 186, 392, 653, 811, 724, 492, 155, 703, 701, 571, 264, 525, 251, 362]\n",
            "Even numbers are [508, 126, 303, 729, 637, 377, 349, 214, 365, 557, 561, 218, 513, 506, 322, 200, 633, 729, 245, 144, 730, 450, 713, 835, 513, 823, 392, 899, 516, 517, 115, 424, 808, 166, 543, 465, 819, 414, 519, 346, 485, 691, 220, 261, 805, 692, 372, 288, 301, 399]\n",
            "Prime numbers are [727, 349, 557, 761, 523, 271, 809, 421, 823, 899, 809, 757, 653, 811, 691, 701, 571, 251]\n"
          ]
        }
      ]
    },
    {
      "cell_type": "markdown",
      "source": [
        "Ques 4"
      ],
      "metadata": {
        "id": "nXEn4uB7fGJ6"
      }
    },
    {
      "cell_type": "code",
      "source": [
        "A = {34, 56, 78, 90}\n",
        "B = {78, 45, 90, 23}\n",
        "\n",
        "def union(A,B):\n",
        "  print(A.union(B))\n",
        "\n",
        "def intersection(A,B):\n",
        "  print(A.intersection(B))\n",
        "\n",
        "def symmetric_difference(A,B):\n",
        "  print(A.symmetric_difference(B))\n",
        "\n",
        "def A_is_subset_of_B(A,B):\n",
        "  print(A.issubset(B))\n",
        "\n",
        "def remove_from_A(A):\n",
        "  a = int(input(\"Enter the number to remove from A\"))\n",
        "  if(a in A):\n",
        "    A.remove(a)\n",
        "    print(A)\n",
        "  else:\n",
        "    print(\"Number not found\")\n",
        "\n",
        "union(A,B)\n",
        "intersection(A,B)\n",
        "symmetric_difference(A,B)\n",
        "A_is_subset_of_B(A,B)\n",
        "remove_from_A(A)"
      ],
      "metadata": {
        "colab": {
          "base_uri": "https://localhost:8080/"
        },
        "id": "tOAGRrugfEfg",
        "outputId": "6773ea5c-994a-4ca4-c882-be2036a5a05c"
      },
      "execution_count": 10,
      "outputs": [
        {
          "output_type": "stream",
          "name": "stdout",
          "text": [
            "{34, 45, 78, 23, 56, 90}\n",
            "{90, 78}\n",
            "{34, 45, 23, 56}\n",
            "False\n",
            "Enter the number to remove from A34\n",
            "{56, 90, 78}\n"
          ]
        }
      ]
    },
    {
      "cell_type": "markdown",
      "source": [
        "Ques 5"
      ],
      "metadata": {
        "id": "2x_jwWhjgnuG"
      }
    },
    {
      "cell_type": "code",
      "source": [
        "data = {\"city\": \"New York\", \"population\": 8419600, \"area\": 468.9}\n",
        "def rename_key(data, old_key, new_key):\n",
        "  if old_key in data:\n",
        "    data[new_key] = data.pop(old_key)\n",
        "  print(data)\n",
        "\n",
        "rename_key(data, \"city\", \"location\")"
      ],
      "metadata": {
        "colab": {
          "base_uri": "https://localhost:8080/"
        },
        "id": "RwE1hQEmfAgu",
        "outputId": "441cc6e2-d30a-4a24-bf4c-2a50a51ccbbc"
      },
      "execution_count": 11,
      "outputs": [
        {
          "output_type": "stream",
          "name": "stdout",
          "text": [
            "{'population': 8419600, 'area': 468.9, 'location': 'New York'}\n"
          ]
        }
      ]
    }
  ]
}